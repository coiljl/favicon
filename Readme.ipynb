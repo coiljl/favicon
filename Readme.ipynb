{
 "metadata": {
  "language": "Julia",
  "name": "",
  "signature": "sha256:79e8ba2193b59483980051108963af988f221ebbc37fb449dcfa88764bf9219d"
 },
 "nbformat": 3,
 "nbformat_minor": 0,
 "worksheets": [
  {
   "cells": [
    {
     "cell_type": "markdown",
     "metadata": {},
     "source": [
      "# favicon\n",
      "\n",
      "Handle favicon.ico requests\n",
      "\n",
      "## Installation\n",
      "\n",
      "With [packin](//github.com/jkroso/packin): `packin add coiljl/favicon`"
     ]
    },
    {
     "cell_type": "code",
     "collapsed": false,
     "input": [
      "@require \"favicon\" favicon;"
     ],
     "language": "python",
     "metadata": {},
     "outputs": [],
     "prompt_number": 1
    },
    {
     "cell_type": "markdown",
     "metadata": {},
     "source": [
      "## API\n",
      "\n",
      "### `favicon(path::String)`\n",
      "\n",
      "Generates a function which will handle favicon requests and repond with the image at `path`"
     ]
    },
    {
     "cell_type": "code",
     "collapsed": false,
     "input": [
      "serve = favicon(\"favicon.ico\")"
     ],
     "language": "python",
     "metadata": {},
     "outputs": [
      {
       "metadata": {},
       "output_type": "pyout",
       "prompt_number": 2,
       "text": [
        "serve (generic function with 5 methods)"
       ]
      }
     ],
     "prompt_number": 2
    },
    {
     "cell_type": "code",
     "collapsed": false,
     "input": [
      "@require \"Request\" Request\n",
      "serve(Request(IOBuffer(\"GET /\")))"
     ],
     "language": "python",
     "metadata": {},
     "outputs": [
      {
       "metadata": {},
       "output_type": "pyout",
       "prompt_number": 3,
       "text": [
        "Response{Array{Uint8,1}}(200,[\"Cache-Control\"=>\"public, max-age=86400\",\"Content-Type\"=>\"image/x-icon\"],Uint8[0x00,0x00,0x01,0x00,0x01,0x00,0x20,0x20,0x00,0x00  \u2026  0x00,0x00,0x00,0x00,0x00,0x00,0x00,0x00,0x00,0x00])"
       ]
      }
     ],
     "prompt_number": 3
    }
   ],
   "metadata": {}
  }
 ]
}